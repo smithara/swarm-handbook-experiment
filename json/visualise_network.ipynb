{
 "cells": [
  {
   "cell_type": "code",
   "execution_count": null,
   "metadata": {},
   "outputs": [],
   "source": [
    "import networkx as nx\n",
    "# import matplotlib.pyplot as plt\n",
    "import pygraphviz as pgv\n",
    "\n",
    "from src.catalog_utils import load_catalog"
   ]
  },
  {
   "cell_type": "code",
   "execution_count": null,
   "metadata": {},
   "outputs": [],
   "source": [
    "CATALOG = load_catalog()\n",
    "CATALOG"
   ]
  },
  {
   "cell_type": "code",
   "execution_count": null,
   "metadata": {},
   "outputs": [],
   "source": [
    "CATALOG.get_product(\"SW_MAGx_LR_1B\").link_files_http"
   ]
  },
  {
   "cell_type": "code",
   "execution_count": null,
   "metadata": {},
   "outputs": [],
   "source": [
    "products = list(CATALOG.products.keys())"
   ]
  },
  {
   "cell_type": "code",
   "execution_count": null,
   "metadata": {},
   "outputs": [],
   "source": [
    "product_dependencies = {\n",
    "    product: CATALOG.get_product(product).input_products\n",
    "    for product in CATALOG.products.keys()\n",
    "}\n",
    "product_dependencies"
   ]
  },
  {
   "cell_type": "code",
   "execution_count": null,
   "metadata": {},
   "outputs": [],
   "source": [
    "avail_cats ={\n",
    "    \"Advanced\": \"red\",\n",
    "    \"Level1b\": \"black\",\n",
    "    \"Level2daily\": \"green\",\n",
    "    \"Level2longterm\": \"blue\",\n",
    "    \"Multimission\": \"purple\",\n",
    "}\n",
    "product_categories = {}\n",
    "for product in CATALOG.products.keys():\n",
    "    data_url = CATALOG.get_product(product).link_files_http\n",
    "    for catname in avail_cats.keys():\n",
    "        if catname in data_url:\n",
    "            product_categories[product] = catname\n",
    "            continue\n",
    "# product_categories"
   ]
  },
  {
   "cell_type": "code",
   "execution_count": null,
   "metadata": {},
   "outputs": [],
   "source": [
    "avail_fast = (\n",
    "    # \"SW_ACCx_PR_1B\",\n",
    "    \"SW_ASMxAUX_1B\",\n",
    "    \"SW_EFIx_LP_1B\",\n",
    "    \"SW_EFIxLPI_1B\",\n",
    "    \"SW_GPSxNAV_1B\",\n",
    "    \"SW_GPSx_RN_1B\",\n",
    "    \"SW_GPSx_RO_1B\",\n",
    "    \"SW_LP_x_CA_1B\",\n",
    "    \"SW_MAGx_CA_1B\",\n",
    "    \"SW_MAGx_LR_1B\",\n",
    "    \"SW_MAGx_HR_1B\",\n",
    "    \"SW_MODx_SC_1B\",\n",
    "    \"SW_SC_xDYN_1B\",\n",
    "    \"SW_STRxATT_1B\",\n",
    "    \"SW_VFMxAUX_1B\",\n",
    ")"
   ]
  },
  {
   "cell_type": "code",
   "execution_count": null,
   "metadata": {},
   "outputs": [],
   "source": [
    "CATALOG.get_product(\"CH_DNS_ACC_2_\").link_vires_gui"
   ]
  },
  {
   "cell_type": "code",
   "execution_count": null,
   "metadata": {},
   "outputs": [],
   "source": [
    "def make_graph(product_dependencies=product_dependencies, product_categories=product_categories):\n",
    "\n",
    "    # Build the graph\n",
    "    G = pgv.AGraph(directed=True)\n",
    "\n",
    "    # Add all nodes at once\n",
    "    for node in product_dependencies.keys():\n",
    "        cat = product_categories[node]\n",
    "        color = avail_cats.get(cat, \"grey\")\n",
    "        shape = \"doubleoctagon\" if node in avail_fast else \"box\"\n",
    "        url = f\"https://swarmhandbook.earth.esa.int/catalogue/{node}\"\n",
    "        link_notebook = CATALOG.get_product(node).link_notebook\n",
    "        link_vires_gui = CATALOG.get_product(node).link_vires_gui\n",
    "        bgcolor = \"powderblue\" if link_notebook or link_vires_gui else \"white\"\n",
    "        G.add_node(\n",
    "            node, shape=shape, color=color, URL=url, fillcolor=bgcolor,\n",
    "            style=\"filled\", fontsize=15, penwidth=3\n",
    "        )\n",
    "\n",
    "    # # Add each category of products as a cluster?\n",
    "    # def _filter_nodes(cat):\n",
    "    #     return [p for p, c in product_categories.items() if c==cat]\n",
    "    # for cat, color in avail_cats.items():\n",
    "    #     G.add_nodes_from(\n",
    "    #         _filter_nodes(cat), color=color,# cluster=True\n",
    "    #     )\n",
    "\n",
    "    # Add dependency edges\n",
    "    for node, neighbors in product_dependencies.items():\n",
    "        for neighbor in neighbors:\n",
    "            G.add_edge(node, neighbor)\n",
    "\n",
    "        \n",
    "\n",
    "    # Visualisation options\n",
    "    # G.layout(prog=\"neato\", args='-Gmaxiter=100')\n",
    "    G.layout(prog=\"circo\")\n",
    "\n",
    "    return G\n",
    "\n",
    "graph_viz = make_graph()\n",
    "graph_viz.draw(\"network_graph.svg\")\n",
    "graph_viz\n"
   ]
  },
  {
   "cell_type": "code",
   "execution_count": null,
   "metadata": {},
   "outputs": [],
   "source": [
    "def make_graph(product_dependencies=product_dependencies, product_categories=product_categories):\n",
    "\n",
    "    # Build graph\n",
    "    G = nx.DiGraph()\n",
    "    for node in product_dependencies.keys():\n",
    "        cat = product_categories[node]\n",
    "        color = avail_cats.get(cat, \"grey\")\n",
    "        G.add_nodes_from(\n",
    "            [\n",
    "                (node, {\"color\": color, \"shape\": \"box\", \"fontsize\": 5}),\n",
    "            ]\n",
    "        )\n",
    "    for node, neighbors in product_dependencies.items():\n",
    "        for neighbor in neighbors:\n",
    "            G.add_edge(node, neighbor)\n",
    "\n",
    "    pos = nx.spring_layout(G, seed=42)  # You can choose different layouts as well\n",
    "    nx.draw(G, pos, with_labels=True, node_size=1500, node_color=\"skyblue\", font_size=12, font_weight=\"bold\")\n",
    "\n",
    "    return G\n",
    "\n",
    "make_graph()\n"
   ]
  },
  {
   "cell_type": "code",
   "execution_count": null,
   "metadata": {},
   "outputs": [],
   "source": []
  }
 ],
 "metadata": {
  "kernelspec": {
   "display_name": "Python 3",
   "language": "python",
   "name": "python3"
  },
  "language_info": {
   "codemirror_mode": {
    "name": "ipython",
    "version": 3
   },
   "file_extension": ".py",
   "mimetype": "text/x-python",
   "name": "python",
   "nbconvert_exporter": "python",
   "pygments_lexer": "ipython3",
   "version": "3.10.13"
  }
 },
 "nbformat": 4,
 "nbformat_minor": 2
}
