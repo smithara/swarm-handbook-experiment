{
 "cells": [
  {
   "cell_type": "code",
   "execution_count": null,
   "metadata": {},
   "outputs": [],
   "source": [
    "import networkx as nx\n",
    "# import matplotlib.pyplot as plt\n",
    "import pygraphviz as pgv\n",
    "import panel as pn\n",
    "from IPython.display import display\n",
    "\n",
    "from src.catalog_utils import load_catalog\n",
    "\n",
    "pn.extension()"
   ]
  },
  {
   "cell_type": "markdown",
   "metadata": {},
   "source": [
    "## Load catalog"
   ]
  },
  {
   "cell_type": "code",
   "execution_count": null,
   "metadata": {
    "scrolled": true
   },
   "outputs": [],
   "source": [
    "CATALOG = load_catalog()\n",
    "# CATALOG"
   ]
  },
  {
   "cell_type": "code",
   "execution_count": null,
   "metadata": {},
   "outputs": [],
   "source": [
    "CATALOG.get_product(\"SW_MAGx_LR_1B\").link_files_http"
   ]
  },
  {
   "cell_type": "code",
   "execution_count": null,
   "metadata": {},
   "outputs": [],
   "source": [
    "products = list(CATALOG.products.keys())"
   ]
  },
  {
   "cell_type": "markdown",
   "metadata": {},
   "source": [
    "## Define subgroups to plot separately"
   ]
  },
  {
   "cell_type": "code",
   "execution_count": null,
   "metadata": {},
   "outputs": [],
   "source": [
    "group_1 = [\n",
    "    'SW_CFW_SHA_2Y',\n",
    "    'SW_MCO_SHA_2Y',\n",
    "    'SW_MLI_SHA_2D',\n",
    "    'SW_MAGx_LR_1B',\n",
    "    'SW_MMA_SHA_2C',\n",
    "    'SW_MTI_SHA_2C',\n",
    "    'SW_MCO_SHA_2C',\n",
    "    'SW_MCO_SHA_2X',\n",
    "    'SW_MLI_SHA_2C',\n",
    "    'SW_MIO_SHA_2C',\n",
    "    'SW_MIO_SHA_2E',\n",
    "    'SW_MCO_SHA_2D',\n",
    "    'SW_MCO_SHA_2F',\n",
    "    'SW_MCR_1DM_2_',\n",
    "    'SW_MIN_1DM_2_',\n",
    "    'SW_VOBS_1M_2_',\n",
    "    'SW_VOBS_4M_2_',\n",
    "    'SW_MMA_SHA_2F',\n",
    "    'SW_MIO_SHA_2D',\n",
    "    'SW_MIO_SHA_2E',\n",
    "    'SW_MLI_SHA_2E',\n",
    "    'SW_IBIxTMS_2F',\n",
    "    'SW_EFIx_LP_1B',\n",
    "]\n",
    "\n",
    "group_2 = [\n",
    "    'SW_FAC_TMS_2F',\n",
    "    'SW_FACxTMS_2F',\n",
    "    'SW_EFIx_LP_1B',\n",
    "    'SW_IBIxTMS_2F',\n",
    "    'SW_IBP_CLI_2_',\n",
    "    'SW_MAGx_LR_1B',\n",
    "    'SW_AEJxLPL_2F',\n",
    "    'SW_AEJxPBL_2F',\n",
    "    'SW_EEFxTMS_2F',\n",
    "    'SW_AEJxLPS_2F',\n",
    "    'SW_AEJxPBS_2F',\n",
    "    'SW_MCO_SHA_2X',\n",
    "    'SW_AOBxFAC_2F',\n",
    "    'SW_IPDxIRR_2F',\n",
    "    'SW_MITx_LP_2F',\n",
    "    'SW_PPIxFAC_2F',\n",
    "    'SW_MITxTEC_2F',\n",
    "    'SW_TECxTMS_2F',\n",
    "    'SW_AUXxORBCNT',\n",
    "    'SW_MODx_SC_1B',\n",
    "    'SW_GPSx_RO_1B',\n",
    "]\n",
    "\n",
    "group_3 = [\n",
    "    'SW_MODx_SC_1B',\n",
    "    'SW_GPSx_RO_1B',\n",
    "    'SW_STRxATT_1B',\n",
    "    'SW_SC_xDYN_1B',\n",
    "    'SW_EGF_SHA_2_',\n",
    "    'SW_SP3xKIN_2_',\n",
    "    'SW_SP3xCOM_2_',\n",
    "    'SW_ACCxPOD_2_',\n",
    "    'SW_ACCxCAL_2_',\n",
    "    'SW_DNSxPOD_2_',\n",
    "    'SW_ACCx_AE_2_',\n",
    "    'SW_DNSxACC_2_',\n",
    "]\n",
    "\n",
    "group_4 = [\n",
    "    'CH_DNS_ACC_2_',\n",
    "    'CH_TEC_TMS_2F',\n",
    "    'CH_WND_ACC_2_',\n",
    "    'CS_MAG',\n",
    "    'GF_DNSxACC_2_',\n",
    "    'GF_NE__KBR_2F',\n",
    "    'GF_TECxTMS_2F',\n",
    "    'GFx_FGM_ACAL_CORR',\n",
    "    'GO_MAG_ACAL_CORR',\n",
    "    'GRACE_x_MAG',\n",
    "    'GR_DNSxACC_2_',\n",
    "    'GR_NE__KBR_2F',\n",
    "    'GR_TECxTMS_2F',\n",
    "    'GR_WNDxACC_2_',\n",
    "    'MM_CON_EPH_2_',\n",
    "]\n",
    "\n",
    "group_remaining = [_p for _p in CATALOG.product_ids if _p not in group_1 + group_2 + group_3 + group_4]"
   ]
  },
  {
   "cell_type": "code",
   "execution_count": null,
   "metadata": {},
   "outputs": [],
   "source": [
    "product_subset = pn.widgets.MultiChoice(name=\"input_products\", options=CATALOG.product_ids, width=1000, value=group_4)\n",
    "pn.Column(product_subset, min_height=400)"
   ]
  },
  {
   "cell_type": "code",
   "execution_count": null,
   "metadata": {},
   "outputs": [],
   "source": [
    "product_subset.value"
   ]
  },
  {
   "cell_type": "markdown",
   "metadata": {},
   "source": [
    "## Define dependencies and categories"
   ]
  },
  {
   "cell_type": "code",
   "execution_count": null,
   "metadata": {
    "scrolled": true
   },
   "outputs": [],
   "source": [
    "product_dependencies = {\n",
    "    product: CATALOG.get_product(product).input_products\n",
    "    for product in CATALOG.products.keys()\n",
    "}\n",
    "product_dependencies"
   ]
  },
  {
   "cell_type": "code",
   "execution_count": null,
   "metadata": {
    "scrolled": true
   },
   "outputs": [],
   "source": [
    "avail_cats ={\n",
    "    \"Advanced\": \"red\",\n",
    "    \"Level1b\": \"black\",\n",
    "    \"Level2daily\": \"green\",\n",
    "    \"Level2longterm\": \"blue\",\n",
    "    \"Multimission\": \"purple\",\n",
    "}\n",
    "product_categories = {}\n",
    "for product in CATALOG.products.keys():\n",
    "    data_url = CATALOG.get_product(product).link_files_http\n",
    "    for catname in avail_cats.keys():\n",
    "        if catname in data_url:\n",
    "            product_categories[product] = catname\n",
    "            continue\n",
    "product_categories"
   ]
  },
  {
   "cell_type": "code",
   "execution_count": null,
   "metadata": {},
   "outputs": [],
   "source": [
    "avail_fast = (\n",
    "    # \"SW_ACCx_PR_1B\",\n",
    "    \"SW_ASMxAUX_1B\",\n",
    "    \"SW_EFIx_LP_1B\",\n",
    "    \"SW_EFIxLPI_1B\",\n",
    "    \"SW_GPSxNAV_1B\",\n",
    "    \"SW_GPSx_RN_1B\",\n",
    "    \"SW_GPSx_RO_1B\",\n",
    "    \"SW_LP_x_CA_1B\",\n",
    "    \"SW_MAGx_CA_1B\",\n",
    "    \"SW_MAGx_LR_1B\",\n",
    "    \"SW_MAGx_HR_1B\",\n",
    "    \"SW_MODx_SC_1B\",\n",
    "    \"SW_SC_xDYN_1B\",\n",
    "    \"SW_STRxATT_1B\",\n",
    "    \"SW_VFMxAUX_1B\",\n",
    "    \"SW_AUXxORBCNT\",\n",
    ")\n",
    "\n",
    "avail_vires_no_link = (\n",
    "    \"SW_MLI_SHA_2E\",\n",
    "    \"SW_IBP_CLI_2_\",\n",
    "    \"SW_MODx_SC_1B\",\n",
    "    \"SW_AUXxORBCNT\",\n",
    "    \"SW_PPIxFAC_2F\",\n",
    ")"
   ]
  },
  {
   "cell_type": "code",
   "execution_count": null,
   "metadata": {},
   "outputs": [],
   "source": [
    "def make_graph(product_dependencies=product_dependencies, product_categories=product_categories, group=group_1, prog=\"dot\"):\n",
    "\n",
    "    # Select which group to use\n",
    "    product_dependencies = {_p: product_dependencies[_p] for _p in product_dependencies.keys() if _p in group}\n",
    "    # product_categories = {_p: product_categories[_p] for _p in product_categories.keys() if _p in group}\n",
    "\n",
    "    # Build the graph\n",
    "    G = pgv.AGraph(directed=True)\n",
    "\n",
    "    # Add all nodes at once\n",
    "    for node in product_dependencies.keys():\n",
    "        cat = product_categories[node]\n",
    "        color = avail_cats.get(cat, \"grey\")\n",
    "        shape = \"doubleoctagon\" if node in avail_fast else \"box\"\n",
    "        url = f\"https://swarmhandbook.earth.esa.int/catalogue/{node}\"\n",
    "        link_notebook = CATALOG.get_product(node).link_notebook\n",
    "        link_vires_gui = CATALOG.get_product(node).link_vires_gui\n",
    "        in_vires_otherwise = node in avail_vires_no_link\n",
    "        bgcolor = \"powderblue\" if link_notebook or link_vires_gui or in_vires_otherwise else \"white\"\n",
    "        G.add_node(\n",
    "            node, shape=shape, color=color, URL=url, fillcolor=bgcolor,\n",
    "            style=\"filled\", fontsize=15, penwidth=3\n",
    "        )\n",
    "\n",
    "    # # Add each category of products as a cluster?\n",
    "    # def _filter_nodes(cat):\n",
    "    #     return [p for p, c in product_categories.items() if c==cat]\n",
    "    # for cat, color in avail_cats.items():\n",
    "    #     G.add_nodes_from(\n",
    "    #         _filter_nodes(cat), color=color,# cluster=True\n",
    "    #     )\n",
    "\n",
    "    # Add dependency edges\n",
    "    for node, neighbors in product_dependencies.items():\n",
    "        for neighbor in neighbors:\n",
    "            G.add_edge(node, neighbor)\n",
    "\n",
    "    # Visualisation options\n",
    "    # G.layout(prog=\"neato\", args='-Gmaxiter=100')\n",
    "    # G.layout(prog=\"circo\")\n",
    "    G.layout(prog=prog)\n",
    "\n",
    "    return G"
   ]
  },
  {
   "cell_type": "code",
   "execution_count": null,
   "metadata": {},
   "outputs": [],
   "source": [
    "make"
   ]
  },
  {
   "cell_type": "code",
   "execution_count": null,
   "metadata": {},
   "outputs": [],
   "source": [
    "for i, (group, prog) in enumerate(zip([group_1, group_2, group_3, group_4, group_remaining], [\"dot\", \"dot\", \"dot\", \"circo\", \"circo\"])):\n",
    "    graph_viz = make_graph(group=group, prog=prog)\n",
    "    graph_viz.draw(f\"network_graph_{i}.svg\")\n",
    "    display(graph_viz)"
   ]
  },
  {
   "cell_type": "markdown",
   "metadata": {},
   "source": [
    "## Make legend manually"
   ]
  },
  {
   "cell_type": "code",
   "execution_count": null,
   "metadata": {},
   "outputs": [],
   "source": [
    "G = pgv.AGraph(directed=True)\n",
    "for catname, border_color in avail_cats.items():\n",
    "    shape = \"doubleoctagon\" if catname == \"Level1b\" else \"box\"\n",
    "    G.add_node(\n",
    "        catname, shape=shape, color=border_color, style=\"filled\", fillcolor=\"white\", penwidth=3,\n",
    "    )\n",
    "G.add_node(\n",
    "    \"Available in VirES\", shape=\"box\", color=\"white\", style=\"filled\", fillcolor=\"powderblue\", penwidth=3,\n",
    ")\n",
    "G.layout(prog=\"dot\")\n",
    "G.draw(\"key_1.svg\")\n",
    "G"
   ]
  },
  {
   "cell_type": "code",
   "execution_count": null,
   "metadata": {},
   "outputs": [],
   "source": [
    "G = pgv.AGraph(directed=True)\n",
    "G.add_node(\n",
    "    \"Product B\", shape=\"box\", color=\"black\", style=\"filled\", fillcolor=\"white\", penwidth=3,\n",
    ")\n",
    "G.add_node(\n",
    "    \"Product A\", shape=\"box\", color=\"black\", style=\"filled\", fillcolor=\"white\", penwidth=3,\n",
    ")\n",
    "G.add_edge(\"Product B\", \"Product A\", )\n",
    "# G.add_node(\n",
    "#     \"A depends on B\", shape=\"box\", color=\"white\", style=\"filled\", fillcolor=\"white\", penwidth=3,\n",
    "# )\n",
    "G.layout(prog=\"circo\")\n",
    "G.draw(\"key_2.svg\")\n",
    "G"
   ]
  },
  {
   "cell_type": "markdown",
   "metadata": {},
   "source": [
    "## Further experiments"
   ]
  },
  {
   "cell_type": "code",
   "execution_count": null,
   "metadata": {},
   "outputs": [],
   "source": [
    "def make_graph_new(product_dependencies=product_dependencies, product_categories=product_categories):\n",
    "\n",
    "    # Build graph\n",
    "    G = nx.DiGraph()\n",
    "    for node in product_dependencies.keys():\n",
    "        cat = product_categories[node]\n",
    "        color = avail_cats.get(cat, \"grey\")\n",
    "        G.add_nodes_from(\n",
    "            [\n",
    "                (node, {\"color\": color, \"shape\": \"box\", \"fontsize\": 5}),\n",
    "            ]\n",
    "        )\n",
    "    for node, neighbors in product_dependencies.items():\n",
    "        for neighbor in neighbors:\n",
    "            G.add_edge(node, neighbor)\n",
    "\n",
    "    pos = nx.spring_layout(G, seed=42)  # You can choose different layouts as well\n",
    "    nx.draw(G, pos, with_labels=True, node_size=1500, node_color=\"skyblue\", font_size=12, font_weight=\"bold\")\n",
    "\n",
    "    return G\n",
    "\n",
    "make_graph()\n"
   ]
  }
 ],
 "metadata": {
  "kernelspec": {
   "display_name": "Python 3 (ipykernel)",
   "language": "python",
   "name": "python3"
  },
  "language_info": {
   "codemirror_mode": {
    "name": "ipython",
    "version": 3
   },
   "file_extension": ".py",
   "mimetype": "text/x-python",
   "name": "python",
   "nbconvert_exporter": "python",
   "pygments_lexer": "ipython3",
   "version": "3.11.7"
  }
 },
 "nbformat": 4,
 "nbformat_minor": 4
}
